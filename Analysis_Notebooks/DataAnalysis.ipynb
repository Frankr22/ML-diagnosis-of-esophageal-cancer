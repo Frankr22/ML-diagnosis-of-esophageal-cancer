{
 "cells": [
  {
   "cell_type": "markdown",
   "id": "0232ceec",
   "metadata": {},
   "source": [
    "# ML-diagnosis-of-esophageal-cancer\n",
    "## Data Analysis Notebook\n",
    "Authors: Robert Franklin, Brianna O'Connor, Marisa Duong\n",
    "\n",
    "Date: 2023-03-13"
   ]
  },
  {
   "cell_type": "code",
   "execution_count": 1,
   "id": "6a804c56",
   "metadata": {},
   "outputs": [],
   "source": [
    "# Dependencies & Installs\n",
    "import pandas as pd"
   ]
  },
  {
   "cell_type": "code",
   "execution_count": 2,
   "id": "4278204a",
   "metadata": {},
   "outputs": [],
   "source": [
    "# read CB_df_cleaned.csv file\n",
    "CB_df = pd.read_csv('../Data_Cleaned/CB_df_cleaned.csv')\n",
    "\n",
    "# read PN_df_cleaned.csv file\n",
    "PN_df = pd.read_csv('../Data_Cleaned/PN_df_cleaned.csv')\n",
    "\n",
    "# read Joined_df_cleaned.csv file\n",
    "joined_df = pd.read_csv('../Data_Cleaned/Joined_df_cleaned.csv')"
   ]
  },
  {
   "cell_type": "code",
   "execution_count": 3,
   "id": "fd9e8e5d",
   "metadata": {},
   "outputs": [
    {
     "name": "stdout",
     "output_type": "stream",
     "text": [
      "NSE       14\n",
      "BE        13\n",
      "EAC       10\n",
      "BE-HGD     7\n",
      "BE-ID      3\n",
      "BE-LGD     2\n",
      "Name: Patient Group, dtype: int64\n",
      "0    38\n",
      "1    11\n",
      "Name: Gender_F, dtype: int64\n"
     ]
    }
   ],
   "source": [
    "# How balanced is our input data?\n",
    "# Target column is Patient group. \n",
    "print(CB_df['Patient Group'].value_counts())\n",
    "print(CB_df['Gender_F'].value_counts())"
   ]
  },
  {
   "cell_type": "markdown",
   "id": "9bc8ac4c",
   "metadata": {},
   "source": [
    "#### CB cohort ####\n",
    "\n",
    "Gender balance: Females account for less than a quarter of the samples.\n",
    "\n",
    "There is one category of Barretts Oesophagus (BE-ID) that does not occur in the PN cohort and may need to be re-categorised or dropped."
   ]
  },
  {
   "cell_type": "code",
   "execution_count": 5,
   "id": "0f813e32",
   "metadata": {},
   "outputs": [
    {
     "name": "stdout",
     "output_type": "stream",
     "text": [
      "BE        59\n",
      "EAC       49\n",
      "NSE       41\n",
      "BE-LGD    36\n",
      "BE-HGD    33\n",
      "Name: Patient Group, dtype: int64\n",
      "0    164\n",
      "1     54\n",
      "Name: Gender_F, dtype: int64\n"
     ]
    }
   ],
   "source": [
    "print(PN_df['Patient Group'].value_counts())\n",
    "print(PN_df['Gender_F'].value_counts())"
   ]
  },
  {
   "cell_type": "markdown",
   "id": "4d1809e7",
   "metadata": {},
   "source": [
    "#### PN cohort ####\n",
    "Gender balance is similar to CB cohort.\n",
    "\n",
    "\n",
    "Patient Group values (target column) are reasonably well distributed but not equal."
   ]
  }
 ],
 "metadata": {
  "kernelspec": {
   "display_name": "PythonData",
   "language": "python",
   "name": "pythondata"
  },
  "language_info": {
   "codemirror_mode": {
    "name": "ipython",
    "version": 3
   },
   "file_extension": ".py",
   "mimetype": "text/x-python",
   "name": "python",
   "nbconvert_exporter": "python",
   "pygments_lexer": "ipython3",
   "version": "3.7.7"
  }
 },
 "nbformat": 4,
 "nbformat_minor": 5
}
