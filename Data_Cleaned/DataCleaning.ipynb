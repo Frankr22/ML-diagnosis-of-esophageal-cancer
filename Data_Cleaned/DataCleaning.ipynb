{
 "cells": [
  {
   "cell_type": "markdown",
   "id": "6b1f651c",
   "metadata": {},
   "source": [
    "# ML-diagnosis-of-esophageal-cancer\n",
    "## Data Cleaning & Preprocessing Notebook\n",
    "Author: Robert Franklin\n",
    "Date: 2023-03-09"
   ]
  },
  {
   "cell_type": "code",
   "execution_count": 1,
   "id": "1e47e807",
   "metadata": {},
   "outputs": [],
   "source": [
    "# Dependencies & Installs\n",
    "import pandas as pd\n",
    "# pip install xlrd\n",
    "# pip install openpyxl"
   ]
  },
  {
   "cell_type": "code",
   "execution_count": 2,
   "id": "637413dc",
   "metadata": {},
   "outputs": [
    {
     "name": "stdout",
     "output_type": "stream",
     "text": [
      "  Unnamed: 0 Patient Group    O75636_AAL     O95445_AAL     P00450_AAL  \\\n",
      "0    CB10001           EAC  2.499187e+06  231901.565681  531675.915634   \n",
      "1    CB10002         BE-ID  2.828146e+06  225768.925899  392680.876091   \n",
      "2    CB10003           NSE  3.885362e+06  317408.869810  624661.826663   \n",
      "3    CB10004            BE  2.980757e+06  196448.722270  383654.430349   \n",
      "4    CB10006            BE  5.082784e+06  513410.263339  665023.074428   \n",
      "\n",
      "      P00734_AAL    P00736_AAL    P00738_AAL    P00747_AAL    P00748_AAL  ...  \\\n",
      "0  130229.593177  4.574278e+07  7.427876e+07  1.399114e+06  62766.439036  ...   \n",
      "1  147433.340040  4.629934e+07  3.240003e+07  1.193564e+06  56995.901230  ...   \n",
      "2  166048.185854  5.879864e+07  3.151861e+07  2.006994e+06  66677.865179  ...   \n",
      "3   81930.599409  4.418331e+07  1.274380e+07  1.121787e+06  47417.392161  ...   \n",
      "4  168785.312885  8.292568e+07  3.314564e+07  2.811941e+06  96794.597616  ...   \n",
      "\n",
      "        Race  BMI (kg/m2)  On Acid Supp Regimen?  Collected Date  \\\n",
      "0  Caucasian        31.46                      Y      2015-06-03   \n",
      "1  Caucasian        41.40                      Y      2014-12-10   \n",
      "2  Caucasian        30.04                      Y      2014-12-05   \n",
      "3  Caucasian        30.26                      Y      2015-01-19   \n",
      "4  Caucasian        30.40                      Y      2015-04-06   \n",
      "\n",
      "                               Treatment Type & Date  Treatment naïve  \\\n",
      "0  No Txmt w/Ochsner; Stented Prior to Coming to ...              Yes   \n",
      "1  Cryo (12/10/2014); RFA (4/29/2014, 12/4/2013, ...               No   \n",
      "2  Cryo (9/23/2015); RFA (3/6/2015, 12/5/2014, 10...               No   \n",
      "3  Cryo (6/19/2015); RFA (4/20/2015, 2/23/2015, 1...               No   \n",
      "4  Cryo (9/23/2015); RFA (4/6/2015, 1/21/2015, 10...               No   \n",
      "\n",
      "                                      Comment  \\\n",
      "0       Underwent surgery unrelated to BE/EAC   \n",
      "1  Received treatment before blood collection   \n",
      "2  Received treatment before blood collection   \n",
      "3  Received treatment before blood collection   \n",
      "4  Received treatment before blood collection   \n",
      "\n",
      "   Dx (Per Path); highest recorded  \\\n",
      "0                   Adenocarcinoma   \n",
      "1                         BE w/LGD   \n",
      "2                             NDBE   \n",
      "3                             NDBE   \n",
      "4                         BE w/HGD   \n",
      "\n",
      "          Diagnosis When Sample Was Taken (Per Path)  \\\n",
      "0                                     Adenocarcinoma   \n",
      "1  Intestinal Metaplasia; Limited Interpretation ...   \n",
      "2  Chronic Inflammation; No Specialized Epitheliu...   \n",
      "3  Intestinal Metaplasia; No Dysplasia (Non-Dyspl...   \n",
      "4  Intestinal Metaplasia; No Dysplasia (Non-Dyspl...   \n",
      "\n",
      "                                       Comorbidities  \n",
      "0                                    DM Type II, HTN  \n",
      "1               Thyroid Disease, Bipolar, GERD, COPD  \n",
      "2  Arthritis, Asthma, Obesity, HTN, Thyroid Nodul...  \n",
      "3              HTN, Hiatal Hernia, Allergic Rhinitis  \n",
      "4                                  HTN, Pancreatitis  \n",
      "\n",
      "[5 rows x 395 columns]\n"
     ]
    }
   ],
   "source": [
    "# Extract Data and Convert to Dataframe\n",
    "file_path = \"..\\\\Data_Source\\\\RAW data 2cohorts_QIMR.xlsx\"\n",
    "df = pd.read_excel(file_path, engine='openpyxl')\n",
    "print(df.head())"
   ]
  }
 ],
 "metadata": {
  "kernelspec": {
   "display_name": "PythonData",
   "language": "python",
   "name": "pythondata"
  },
  "language_info": {
   "codemirror_mode": {
    "name": "ipython",
    "version": 3
   },
   "file_extension": ".py",
   "mimetype": "text/x-python",
   "name": "python",
   "nbconvert_exporter": "python",
   "pygments_lexer": "ipython3",
   "version": "3.7.7"
  }
 },
 "nbformat": 4,
 "nbformat_minor": 5
}
